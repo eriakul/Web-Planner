{
 "cells": [
  {
   "cell_type": "code",
   "execution_count": 17,
   "metadata": {},
   "outputs": [
    {
     "data": {
      "text/plain": [
       "'December 10, 2018'"
      ]
     },
     "execution_count": 17,
     "metadata": {},
     "output_type": "execute_result"
    }
   ],
   "source": [
    "#'2017-06-10' to 'June 10, 2017'\n",
    "\n",
    "def convert_date(string):\n",
    "    months_list = ['January', 'February', 'March', 'April', 'May', 'June', 'July', 'August', 'October','September',\n",
    "                   'November', 'December']\n",
    "    list_form = string.split('-')\n",
    "    month_index = int(list_form[1])-1\n",
    "    month = months_list[month_index]\n",
    "    converted_date = month+\" \"+list_form[2]+\", \"+ list_form[0]\n",
    "    return converted_date\n",
    "\n",
    "convert_date('2018-12-10')\n",
    "     "
   ]
  },
  {
   "cell_type": "code",
   "execution_count": 18,
   "metadata": {},
   "outputs": [
    {
     "name": "stdout",
     "output_type": "stream",
     "text": [
      "['2017-03-07', '2018-12-01', '2018-12-11']\n"
     ]
    }
   ],
   "source": [
    "listo = ['2018-12-11', '2018-12-01', '2017-03-07']\n",
    "print(sorted(listo))"
   ]
  },
  {
   "cell_type": "code",
   "execution_count": 19,
   "metadata": {
    "collapsed": true
   },
   "outputs": [],
   "source": [
    "from pickle import dump, load\n",
    "\n",
    "def load_cache(file):\n",
    "    cache = load( open( file, \"rb\" ) )\n",
    "    return cache\n",
    "\n",
    "def pickle_cache(variable, file_name):\n",
    "    dump(variable, open(file_name, 'wb'))"
   ]
  },
  {
   "cell_type": "code",
   "execution_count": 46,
   "metadata": {},
   "outputs": [
    {
     "ename": "NameError",
     "evalue": "name 'process_dictionary' is not defined",
     "output_type": "error",
     "traceback": [
      "\u001b[0;31m---------------------------------------------------------------------------\u001b[0m",
      "\u001b[0;31mNameError\u001b[0m                                 Traceback (most recent call last)",
      "\u001b[0;32m<ipython-input-46-8346b6ea708c>\u001b[0m in \u001b[0;36m<module>\u001b[0;34m()\u001b[0m\n\u001b[1;32m      9\u001b[0m \u001b[0;34m\u001b[0m\u001b[0m\n\u001b[1;32m     10\u001b[0m \u001b[0mdicto\u001b[0m \u001b[0;34m=\u001b[0m \u001b[0;34m{\u001b[0m\u001b[0;34m'title'\u001b[0m\u001b[0;34m:\u001b[0m \u001b[0;34m'Hiking'\u001b[0m\u001b[0;34m,\u001b[0m \u001b[0;34m'time'\u001b[0m\u001b[0;34m:\u001b[0m \u001b[0;34m'7-8'\u001b[0m\u001b[0;34m,\u001b[0m \u001b[0;34m'date'\u001b[0m\u001b[0;34m:\u001b[0m \u001b[0;34m'2018-06-30'\u001b[0m\u001b[0;34m,\u001b[0m \u001b[0;34m'description'\u001b[0m\u001b[0;34m:\u001b[0m \u001b[0;34m'This is a desciption'\u001b[0m\u001b[0;34m,\u001b[0m \u001b[0;34m'transportation'\u001b[0m\u001b[0;34m:\u001b[0m \u001b[0;34m'on'\u001b[0m\u001b[0;34m,\u001b[0m \u001b[0;34m'comments'\u001b[0m\u001b[0;34m:\u001b[0m \u001b[0;34m'on'\u001b[0m\u001b[0;34m,\u001b[0m \u001b[0;34m'post_title'\u001b[0m\u001b[0;34m:\u001b[0m \u001b[0;34m'This work????'\u001b[0m\u001b[0;34m}\u001b[0m\u001b[0;34m\u001b[0m\u001b[0m\n\u001b[0;32m---> 11\u001b[0;31m \u001b[0mprocess_dictionary\u001b[0m\u001b[0;34m(\u001b[0m\u001b[0mdicto\u001b[0m\u001b[0;34m)\u001b[0m\u001b[0;34m\u001b[0m\u001b[0m\n\u001b[0m",
      "\u001b[0;31mNameError\u001b[0m: name 'process_dictionary' is not defined"
     ]
    }
   ],
   "source": [
    "def convert_date(string):\n",
    "    months_list = ['January', 'February', 'March', 'April', 'May', 'June', 'July', 'August', 'October','September',\n",
    "                   'November', 'December']\n",
    "    list_form = string.split('-')\n",
    "    month_index = int(list_form[1])-1\n",
    "    month = months_list[month_index]\n",
    "    converted_date = month+\" \"+list_form[2]+\", \"+ list_form[0]\n",
    "    return converted_date\n",
    "\n",
    "dicto = {'title': 'Hiking', 'time': '7-8', 'date': '2018-06-30', 'description': 'This is a desciption', 'transportation': 'on', 'comments': 'on', 'post_title': 'This work????'} \n",
    "process_dictionary(dicto)"
   ]
  },
  {
   "cell_type": "code",
   "execution_count": 84,
   "metadata": {
    "collapsed": true
   },
   "outputs": [],
   "source": [
    "from random import randint\n",
    "def convert_date(string):\n",
    "    months_list = ['January', 'February', 'March', 'April', 'May', 'June', 'July', 'August', 'October','September',\n",
    "                   'November', 'December']\n",
    "    list_form = string.split('-')\n",
    "    month_index = int(list_form[1])-1\n",
    "    month = months_list[month_index]\n",
    "    converted_date = month+\" \"+list_form[2]+\", \"+ list_form[0]\n",
    "    return converted_date\n",
    "\n",
    "def process_create_event_dictionary(dictionary, list_of_dicts):\n",
    "    new_dictionary = {}\n",
    "    list_of_current_ids = [int(i['post_id']) for i in list_of_dicts]\n",
    "    rand_id = randint(0,7000)\n",
    "    while rand_id in list_of_current_ids:\n",
    "         rand_id = randint(0,7000)\n",
    "    new_dictionary['post_id'] = str(rand_id)\n",
    "    new_dictionary['join_modal_id'] = new_dictionary['post_id'] + \"_join_modal\"\n",
    "    new_dictionary['attending_modal_id'] = new_dictionary['post_id'] + \"_attending_modal\"\n",
    "    new_dictionary['title'] = dictionary['title'].upper()\n",
    "    new_dictionary['time'] = dictionary['time']\n",
    "    new_dictionary['unprocessed_date'] = dictionary['date']\n",
    "    new_dictionary['date'] = convert_date(dictionary['date'])\n",
    "    keys = list(dictionary.keys())\n",
    "    checkboxes = ['transportation','comments', 'groupme']\n",
    "    for i in checkboxes:\n",
    "        if i in keys:\n",
    "            new_dictionary[i] = True\n",
    "        else:\n",
    "            new_dictionary[i] = False\n",
    "\n",
    "    new_dictionary['attending'] = []\n",
    "\n",
    "    return new_dictionary\n",
    "\n",
    "\n",
    "\n",
    "def create_join_form(dictionary):\n",
    "    joinmodal_string = \"\"\"\n",
    "    <div id=\"%s\" class=\"modal\">\n",
    "      <span onclick=\"document.getElementById('%s').style.display='none'\" class=\"close\" title=\"Cancel\">&times;</span>\n",
    "      <form class=\"modal-content\" action=\"{{ url_for('home') }}\" method=POST>\n",
    "        <div class=\"container\">\n",
    "          <h1>Join Event</h1>\n",
    "          <hr>\n",
    "          <label for=\"Name\"><b>Name</b></label>\n",
    "          <input type=\"text\" placeholder=\"Enter Name\" name=\"name\" required>\"\"\"\n",
    "    joinmodal_string = joinmodal_string % (dictionary['join_modal_id'], dictionary['join_modal_id'])\n",
    "    if dictionary['transportation'] == True:\n",
    "        joinmodal_string = joinmodal_string + \"\"\"\n",
    "\n",
    "          <label for=\"Name\"><b><i class=\"fa fa-car\" aria-hidden=\"true\"></i> </b></label>\n",
    "          <select name=\"car\">\n",
    "            <option value=\"True\">I have a car.</option>\n",
    "            <option value=\"False\">I don't have a car.</option>\n",
    "          </select>\n",
    "          <label for=\"extra_seats\"><b> Seats Open</b></label>\n",
    "          <select name=\"extra_seats\">\n",
    "            <option value=\"0\">0</option>\n",
    "            <option value=\"1\">1</option>\n",
    "            <option value=\"2\">2</option>\n",
    "            <option value=\"3\">3</option>\n",
    "            <option value=\"4\">4</option>\n",
    "            <option value=\"5\">5</option>\n",
    "            <option value=\"6\">6</option>\n",
    "            <option value=\"7\">7</option>\n",
    "          </select>\n",
    "          <br><br>\"\"\"\n",
    "    if dictionary['comments'] == True:\n",
    "        joinmodal_string = joinmodal_string + \"\"\"\n",
    "          <label for=\"comment\"><b>Comment</b></label>\n",
    "          <input type=\"text\" placeholder=\"Optional. Max 50 characters\" name=\"description\" maxlength=\"50\">\n",
    "          <hr>\"\"\"\n",
    "    if dictionary['transportation'] == True:\n",
    "        joinmodal_string = joinmodal_string + \"\"\"\n",
    "          <label>\n",
    "            <input type=\"checkbox\" name=\"need_ride\" style=\"margin-bottom:15px\"> I need a ride.\n",
    "            <hr>\"\"\"\n",
    "    joinmodal_string = joinmodal_string + \"\"\"\n",
    "      <input type=\"hidden\" name=\"post_id\" value=\"%s\">\n",
    "          <div class=\"clearfix\">\n",
    "            <button type=\"button\" onclick=\"document.getElementById('%s').style.display='none'\" class=\"cancelbtn\">Cancel</button>\n",
    "            <button type=\"submit\" class=\"signupbtn\">Join</button>\n",
    "          </div>\n",
    "        </div>\n",
    "      </form>\n",
    "    </div>\n",
    "    \"\"\"\n",
    "    joinmodal_string = joinmodal_string % (dictionary['post_id'], dictionary['join_modal_id'])\n",
    "    return joinmodal_string"
   ]
  },
  {
   "cell_type": "code",
   "execution_count": null,
   "metadata": {},
   "outputs": [],
   "source": []
  },
  {
   "cell_type": "code",
   "execution_count": null,
   "metadata": {
    "collapsed": true
   },
   "outputs": [],
   "source": []
  },
  {
   "cell_type": "code",
   "execution_count": 85,
   "metadata": {},
   "outputs": [
    {
     "name": "stdout",
     "output_type": "stream",
     "text": [
      "\n",
      "    <div id=\"314_join_modal\" class=\"modal\">\n",
      "      <span onclick=\"document.getElementById('314_join_modal').style.display='none'\" class=\"close\" title=\"Cancel\">&times;</span>\n",
      "      <form class=\"modal-content\" action=\"{{ url_for('home') }}\" method=POST>\n",
      "        <div class=\"container\">\n",
      "          <h1>Join Event</h1>\n",
      "          <hr>\n",
      "          <label for=\"Name\"><b>Name</b></label>\n",
      "          <input type=\"text\" placeholder=\"Enter Name\" name=\"name\" required>\n",
      "\n",
      "          <label for=\"Name\"><b><i class=\"fa fa-car\" aria-hidden=\"true\"></i> </b></label>\n",
      "          <select name=\"car\">\n",
      "            <option value=\"True\">I have a car.</option>\n",
      "            <option value=\"False\">I don't have a car.</option>\n",
      "          </select>\n",
      "          <label for=\"extra_seats\"><b> Seats Open</b></label>\n",
      "          <select name=\"extra_seats\">\n",
      "            <option value=\"0\">0</option>\n",
      "            <option value=\"1\">1</option>\n",
      "            <option value=\"2\">2</option>\n",
      "            <option value=\"3\">3</option>\n",
      "            <option value=\"4\">4</option>\n",
      "            <option value=\"5\">5</option>\n",
      "            <option value=\"6\">6</option>\n",
      "            <option value=\"7\">7</option>\n",
      "          </select>\n",
      "          <br><br>\n",
      "          <label for=\"comment\"><b>Comment</b></label>\n",
      "          <input type=\"text\" placeholder=\"Optional. Max 50 characters\" name=\"description\" maxlength=\"50\">\n",
      "          <hr>\n",
      "          <label>\n",
      "            <input type=\"checkbox\" name=\"need-ride\" style=\"margin-bottom:15px\"> I need a ride.\n",
      "            <hr>\n",
      "      <input type=\"hidden\" name=\"post_id\" value=\"314\">\n",
      "          <div class=\"clearfix\">\n",
      "            <button type=\"button\" onclick=\"document.getElementById('314_join_modal').style.display='none'\" class=\"cancelbtn\">Cancel</button>\n",
      "            <button type=\"submit\" class=\"signupbtn\">Join</button>\n",
      "          </div>\n",
      "        </div>\n",
      "      </form>\n",
      "    </div>\n",
      "    \n"
     ]
    }
   ],
   "source": [
    "\n",
    "print(create_join_form(dicto))"
   ]
  },
  {
   "cell_type": "code",
   "execution_count": null,
   "metadata": {},
   "outputs": [],
   "source": []
  },
  {
   "cell_type": "code",
   "execution_count": 86,
   "metadata": {},
   "outputs": [],
   "source": [
    "FORM = {'name': 'Ashley', 'car': 'True', 'extra_seats': '4', 'comment': 'dusk', 'need_ride': 'on', 'post_id': '314'} \n",
    "FORM ={'name': 'Ash', 'car': 'True', 'extra_seats': '0', 'comment': '', 'post_id': '314'} \n",
    "def process_join_dictionary(dictionary, list_of_attending_dicts):\n",
    "    list_of_current_ids = [int(i['person_id']) for i in list_of_attending_dicts]\n",
    "    rand_id = randint(0,7000)\n",
    "    new_dictionary = {}\n",
    "    while rand_id in list_of_current_ids:\n",
    "        rand_id = randint(0,7000)\n",
    "    new_dictionary['person_id'] = str(rand_id)\n",
    "    new_dictionary['post_id'] = dictionary['post_id']\n",
    "    new_dictionary['name'] = dictionary['name']\n",
    "    new_dictionary['comment'] = dictionary['comment']\n",
    "    new_dictionary['extra_seats'] = int(dictionary['extra_seats'])\n",
    "    keys = list(dictionary.keys())\n",
    "    if 'need_ride' in keys:\n",
    "        new_dictionary['need_ride'] = True\n",
    "    else:\n",
    "        new_dictionary['need_ride'] = False\n",
    "    return new_dictionary\n",
    "    "
   ]
  },
  {
   "cell_type": "code",
   "execution_count": 124,
   "metadata": {},
   "outputs": [
    {
     "name": "stdout",
     "output_type": "stream",
     "text": [
      "{'post_id': '975', 'join_modal_id': '975_join_modal', 'attending_modal_id': '975_attending_modal', 'title': 'BIRTHDAY', 'time': 'ALl Day', 'unprocessed_date': '2018-06-10', 'date': 'June 10, 2018', 'transportation': True, 'comments': True, 'groupme': False, 'attending': []}\n"
     ]
    }
   ],
   "source": [
    "panel_dictionary = {'post_id': '975', 'join_modal_id': '975_join_modal', 'attending_modal_id': '975_attending_modal', 'title': 'BIRTHDAY', 'time': 'ALl Day', 'unprocessed_date': '2018-06-10', 'date': 'June 10, 2018', 'transportation': True, 'comments': True, 'groupme': False, 'attending': []}\n",
    "attending_list =[{'extra_seats': 0,\n",
    " 'name': 'Ash', 'car': True,\n",
    " 'need_ride': False,\n",
    " 'person_id': '5655',\n",
    " 'post_id': '314',\n",
    "'comment':'hello'},\n",
    "                 {'extra_seats': 0,\n",
    " 'name': 'Ash', 'car': True,\n",
    " 'need_ride': True,\n",
    " 'person_id': '5655',\n",
    " 'post_id': '314',\n",
    "'comment':'hello'}]\n",
    "print(panel_dictionary)"
   ]
  },
  {
   "cell_type": "code",
   "execution_count": 125,
   "metadata": {
    "collapsed": true
   },
   "outputs": [],
   "source": [
    "def create_attending_modal(attending_list, panel_dictionary):\n",
    "    if panel_dictionary['comments'] == True and panel_dictionary['transportation'] == False:\n",
    "        header = \"\"\"\n",
    "            <table>\n",
    "              <tr>\n",
    "                <th>Name</th>\n",
    "                <th>Comment</th>\n",
    "              </tr>\n",
    "            \"\"\"\n",
    "\n",
    "        body = \"\"\n",
    "        for person in attending_list:\n",
    "            temp_body = \"\"\"\n",
    "            <tr>\n",
    "                <td>%s</td>\n",
    "                <td>%s</td>\n",
    "            <tr>\n",
    "            \"\"\"\n",
    "            temp_body = temp_body % (person['name'], person['comment'])\n",
    "            body = body+temp_body\n",
    "        end = \"</table>\"\n",
    "        return header+body+end\n",
    "\n",
    "    if panel_dictionary['transportation']==True and panel_dictionary['comments'] == False:\n",
    "        header = \"\"\"\n",
    "            <table>\n",
    "              <tr>\n",
    "                <th>NR</th>\n",
    "                <th>Name</th>\n",
    "                <th>Car</th>\n",
    "                <th>Extra Seats</th>\n",
    "              </tr>\n",
    "            \"\"\"\n",
    "\n",
    "        body = \"\"\n",
    "        for person in attending_list:\n",
    "            temp_body = \"\"\"\n",
    "            <tr>\n",
    "                <td>%s</td>\n",
    "                <td>%s</td>\n",
    "                <td>%s</td>\n",
    "                <td>%s</td>\n",
    "            <tr>\n",
    "            \"\"\"\n",
    "            if person['need_ride'] == True and person['car'] == False:\n",
    "                temp_body = temp_body % ('<i class=\"fa fa-exclamation-circle\" id = id_red >', person['name'], '', str(person['extra_seats']))\n",
    "            if person['need_ride'] == False and person['car'] == True:\n",
    "                temp_body = temp_body % ('', person['name'], '<i class=\"fa fa-car\" aria-hidden=\"true\"></i>', str(person['extra_seats']))\n",
    "            if person['need_ride'] == True and person['car'] == True:\n",
    "                temp_body = temp_body % ('<i class=\"fa fa-exclamation-circle\" id = id_red >', person['name'], '<i class=\"fa fa-car\" aria-hidden=\"true\"></i>', str(person['extra_seats']))\n",
    "            if person['need_ride'] == False and person['car'] == False:\n",
    "                temp_body = temp_body % ('', person['name'], '', str(person['extra_seats']))\n",
    "            body = body+temp_body\n",
    "        end = \"</table>\"\n",
    "        return header+body+end\n",
    "\n",
    "\n",
    "    if panel_dictionary['transportation']==True and panel_dictionary['comments'] == True:\n",
    "        header = \"\"\"\n",
    "            <table>\n",
    "              <tr>\n",
    "                <th>NR</th>\n",
    "                <th>Name</th>\n",
    "                <th>Car</th>\n",
    "                <th>Extra Seats</th>\n",
    "                <th>Comment</th>\n",
    "              </tr>\n",
    "            \"\"\"\n",
    "        body = \"\"\n",
    "        for person in attending_list:\n",
    "            temp_body = \"\"\"\n",
    "            <tr>\n",
    "                <td>%s</td>\n",
    "                <td>%s</td>\n",
    "                <td>%s</td>\n",
    "                <td>%s</td>\n",
    "                <td>%s</td>\n",
    "            <tr>\n",
    "            \"\"\"\n",
    "            if person['need_ride'] == True and person['car'] == False:\n",
    "                temp_body = temp_body % ('<i class=\"fa fa-exclamation-circle\" id = id_red >', person['name'], '', str(person['extra_seats']), person['comment'])\n",
    "            if person['need_ride'] == False and person['car'] == True:\n",
    "                temp_body = temp_body % ('', person['name'], '<i class=\"fa fa-car\" aria-hidden=\"true\"></i>', str(person['extra_seats']), person['comment'])\n",
    "            if person['need_ride'] == True and person['car'] == True:\n",
    "                temp_body = temp_body % ('<i class=\"fa fa-exclamation-circle\" id = id_red >', person['name'], '<i class=\"fa fa-car\" aria-hidden=\"true\"></i>', str(person['extra_seats']), person['comment'])\n",
    "            if person['need_ride'] == False and person['car'] == False:\n",
    "                temp_body = temp_body % ('', person['name'], '', str(person['extra_seats']), person['comment'])\n",
    "            body = body+temp_body\n",
    "        end = \"</table>\"\n",
    "        return header+body+end\n",
    "\n",
    "    if panel_dictionary['transportation']==False and panel_dictionary['comments'] == False:\n",
    "        header = \"\"\"\n",
    "            <table>\n",
    "              <tr>\n",
    "                <th>Name</th>\n",
    "              </tr>\n",
    "            \"\"\"\n",
    "\n",
    "        body = \"\"\n",
    "        for person in attending_list:\n",
    "            temp_body = \"\"\"\n",
    "            <tr>\n",
    "                <td>%s</td>\n",
    "            <tr>\n",
    "            \"\"\"\n",
    "            temp_body = temp_body % (person['name'])\n",
    "            body = body+temp_body\n",
    "        end = \"</table>\"\n",
    "        return header+body+end\n",
    "        "
   ]
  },
  {
   "cell_type": "code",
   "execution_count": 126,
   "metadata": {},
   "outputs": [
    {
     "name": "stdout",
     "output_type": "stream",
     "text": [
      "\n",
      "            <table>\n",
      "              <tr>\n",
      "                <th>NR</th>\n",
      "                <th>Name</th>\n",
      "                <th>Car</th>\n",
      "                <th>Extra Seats</th>\n",
      "                <th>Comment</th>\n",
      "              </tr>\n",
      "            \n",
      "            <tr>\n",
      "                <td></td>\n",
      "                <td>Ash</td>\n",
      "                <td><i class=\"fa fa-car\" aria-hidden=\"true\"></i></td>\n",
      "                <td>0</td>\n",
      "                <td>hello</td>\n",
      "            <tr>\n",
      "            </table>\n"
     ]
    }
   ],
   "source": [
    "print(create_attending_modal(attending_list, panel_dictionary))"
   ]
  },
  {
   "cell_type": "code",
   "execution_count": 109,
   "metadata": {},
   "outputs": [
    {
     "name": "stdout",
     "output_type": "stream",
     "text": [
      "{'post_id': '975', 'join_modal_id': '975_join_modal', 'attending_modal_id': '975_attending_modal', 'title': 'BIRTHDAY', 'time': 'ALl Day', 'unprocessed_date': '2018-06-10', 'date': 'June 10, 2018', 'transportation': False, 'comments': True, 'groupme': False, 'attending': []}\n"
     ]
    }
   ],
   "source": [
    "print( process_create_event_dictionary({'title': 'Birthday', 'time': 'ALl Day', 'date': '2018-06-10', 'description': '', 'comments': 'on'}, []))"
   ]
  },
  {
   "cell_type": "code",
   "execution_count": null,
   "metadata": {
    "collapsed": true
   },
   "outputs": [],
   "source": []
  }
 ],
 "metadata": {
  "kernelspec": {
   "display_name": "Python 3",
   "language": "python",
   "name": "python3"
  },
  "language_info": {
   "codemirror_mode": {
    "name": "ipython",
    "version": 3
   },
   "file_extension": ".py",
   "mimetype": "text/x-python",
   "name": "python",
   "nbconvert_exporter": "python",
   "pygments_lexer": "ipython3",
   "version": "3.6.3"
  }
 },
 "nbformat": 4,
 "nbformat_minor": 2
}

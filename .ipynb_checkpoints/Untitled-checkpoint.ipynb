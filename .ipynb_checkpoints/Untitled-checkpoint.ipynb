{
 "cells": [
  {
   "cell_type": "code",
   "execution_count": 4,
   "metadata": {},
   "outputs": [
    {
     "data": {
      "text/plain": [
       "'December 10, 2018'"
      ]
     },
     "execution_count": 4,
     "metadata": {},
     "output_type": "execute_result"
    }
   ],
   "source": [
    "#'2017-06-10' to 'June 10, 2017'\n",
    "\n",
    "def convert_date(string):\n",
    "    months_list = ['January', 'February', 'March', 'April', 'May', 'June', 'July', 'August', 'October','September',\n",
    "                   'November', 'December']\n",
    "    list_form = string.split('-')\n",
    "    month_index = int(list_form[1])-1\n",
    "    month = months_list[month_index]\n",
    "    converted_date = month+\" \"+list_form[2]+\", \"+ list_form[0]\n",
    "    return converted_date\n",
    "\n",
    "convert_date('2018-12-10')\n",
    "     "
   ]
  },
  {
   "cell_type": "code",
   "execution_count": 5,
   "metadata": {},
   "outputs": [
    {
     "data": {
      "text/plain": [
       "'HJK'"
      ]
     },
     "execution_count": 5,
     "metadata": {},
     "output_type": "execute_result"
    }
   ],
   "source": [
    "'hjk'.upper()"
   ]
  },
  {
   "cell_type": "code",
   "execution_count": 7,
   "metadata": {},
   "outputs": [
    {
     "name": "stdout",
     "output_type": "stream",
     "text": [
      "['2017-03-07', '2018-12-01', '2018-12-11']\n"
     ]
    }
   ],
   "source": [
    "listo = ['2018-12-11', '2018-12-01', '2017-03-07']\n",
    "print(sorted(listo))"
   ]
  },
  {
   "cell_type": "code",
   "execution_count": 8,
   "metadata": {
    "collapsed": true
   },
   "outputs": [],
   "source": [
    "from pickle import dump, load\n",
    "\n",
    "def load_cache(file):\n",
    "    cache = load( open( file, \"rb\" ) )\n",
    "    return cache\n",
    "\n",
    "def pickle_cache(variable, file_name):\n",
    "    dump(variable, open(file_name, 'wb'))"
   ]
  },
  {
   "cell_type": "code",
   "execution_count": 4,
   "metadata": {},
   "outputs": [
    {
     "ename": "NameError",
     "evalue": "name 'converted_date' is not defined",
     "output_type": "error",
     "traceback": [
      "\u001b[0;31m---------------------------------------------------------------------------\u001b[0m",
      "\u001b[0;31mNameError\u001b[0m                                 Traceback (most recent call last)",
      "\u001b[0;32m<ipython-input-4-9c71abc76d75>\u001b[0m in \u001b[0;36m<module>\u001b[0;34m()\u001b[0m\n\u001b[1;32m      8\u001b[0m     \u001b[0;32mreturn\u001b[0m \u001b[0mconverted_date\u001b[0m\u001b[0;34m\u001b[0m\u001b[0m\n\u001b[1;32m      9\u001b[0m \u001b[0mdicto\u001b[0m \u001b[0;34m=\u001b[0m \u001b[0;34m{\u001b[0m\u001b[0;34m'title'\u001b[0m\u001b[0;34m:\u001b[0m \u001b[0;34m'Hiking'\u001b[0m\u001b[0;34m,\u001b[0m \u001b[0;34m'time'\u001b[0m\u001b[0;34m:\u001b[0m \u001b[0;34m'7-8'\u001b[0m\u001b[0;34m,\u001b[0m \u001b[0;34m'date'\u001b[0m\u001b[0;34m:\u001b[0m \u001b[0;34m'2018-06-30'\u001b[0m\u001b[0;34m,\u001b[0m \u001b[0;34m'description'\u001b[0m\u001b[0;34m:\u001b[0m \u001b[0;34m'This is a desciption'\u001b[0m\u001b[0;34m,\u001b[0m \u001b[0;34m'transportation'\u001b[0m\u001b[0;34m:\u001b[0m \u001b[0;34m'on'\u001b[0m\u001b[0;34m,\u001b[0m \u001b[0;34m'comments'\u001b[0m\u001b[0;34m:\u001b[0m \u001b[0;34m'on'\u001b[0m\u001b[0;34m,\u001b[0m \u001b[0;34m'post_title'\u001b[0m\u001b[0;34m:\u001b[0m \u001b[0;34m'This work????'\u001b[0m\u001b[0;34m}\u001b[0m\u001b[0;34m\u001b[0m\u001b[0m\n\u001b[0;32m---> 10\u001b[0;31m \u001b[0mprocess_dictionary\u001b[0m\u001b[0;34m(\u001b[0m\u001b[0mdicto\u001b[0m\u001b[0;34m)\u001b[0m\u001b[0;34m\u001b[0m\u001b[0m\n\u001b[0m",
      "\u001b[0;32m<ipython-input-1-2b4019aaba25>\u001b[0m in \u001b[0;36mprocess_dictionary\u001b[0;34m(dictionary)\u001b[0m\n\u001b[1;32m      5\u001b[0m     \u001b[0mnew_dictionary\u001b[0m\u001b[0;34m[\u001b[0m\u001b[0;34m'time'\u001b[0m\u001b[0;34m]\u001b[0m \u001b[0;34m=\u001b[0m \u001b[0mdictionary\u001b[0m\u001b[0;34m[\u001b[0m\u001b[0;34m'time'\u001b[0m\u001b[0;34m]\u001b[0m\u001b[0;34m\u001b[0m\u001b[0m\n\u001b[1;32m      6\u001b[0m     \u001b[0mnew_dictionary\u001b[0m\u001b[0;34m[\u001b[0m\u001b[0;34m'unprocessed_date'\u001b[0m\u001b[0;34m]\u001b[0m \u001b[0;34m=\u001b[0m \u001b[0mdictionary\u001b[0m\u001b[0;34m[\u001b[0m\u001b[0;34m'date'\u001b[0m\u001b[0;34m]\u001b[0m\u001b[0;34m\u001b[0m\u001b[0m\n\u001b[0;32m----> 7\u001b[0;31m     \u001b[0mnew_dictionary\u001b[0m\u001b[0;34m[\u001b[0m\u001b[0;34m'date'\u001b[0m\u001b[0;34m]\u001b[0m \u001b[0;34m=\u001b[0m \u001b[0mconverted_date\u001b[0m\u001b[0;34m(\u001b[0m\u001b[0mdictionary\u001b[0m\u001b[0;34m[\u001b[0m\u001b[0;34m'date'\u001b[0m\u001b[0;34m]\u001b[0m\u001b[0;34m)\u001b[0m\u001b[0;34m\u001b[0m\u001b[0m\n\u001b[0m\u001b[1;32m      8\u001b[0m     \u001b[0mkeys\u001b[0m \u001b[0;34m=\u001b[0m \u001b[0mlist\u001b[0m\u001b[0;34m(\u001b[0m\u001b[0mdictionary\u001b[0m\u001b[0;34m.\u001b[0m\u001b[0mkeys\u001b[0m\u001b[0;34m(\u001b[0m\u001b[0;34m)\u001b[0m\u001b[0;34m)\u001b[0m\u001b[0;34m\u001b[0m\u001b[0m\n\u001b[1;32m      9\u001b[0m     \u001b[0mcheckboxes\u001b[0m \u001b[0;34m=\u001b[0m \u001b[0;34m[\u001b[0m\u001b[0;34m'transportation'\u001b[0m\u001b[0;34m,\u001b[0m\u001b[0;34m'comments'\u001b[0m\u001b[0;34m,\u001b[0m \u001b[0;34m'groupme'\u001b[0m\u001b[0;34m]\u001b[0m\u001b[0;34m\u001b[0m\u001b[0m\n",
      "\u001b[0;31mNameError\u001b[0m: name 'converted_date' is not defined"
     ]
    }
   ],
   "source": [
    "def convert_date(string):\n",
    "    months_list = ['January', 'February', 'March', 'April', 'May', 'June', 'July', 'August', 'October','September',\n",
    "                   'November', 'December']\n",
    "    list_form = string.split('-')\n",
    "    month_index = int(list_form[1])-1\n",
    "    month = months_list[month_index]\n",
    "    converted_date = month+\" \"+list_form[2]+\", \"+ list_form[0]\n",
    "    return converted_date\n",
    "\n",
    "dicto = {'title': 'Hiking', 'time': '7-8', 'date': '2018-06-30', 'description': 'This is a desciption', 'transportation': 'on', 'comments': 'on', 'post_title': 'This work????'} \n",
    "process_dictionary(dicto)"
   ]
  },
  {
   "cell_type": "code",
   "execution_count": 1,
   "metadata": {
    "collapsed": true
   },
   "outputs": [],
   "source": [
    "def process_dictionary(dictionary):\n",
    "    new_dictionary = {}\n",
    "    new_dictionary['post_title'] = dictionary['post_title']\n",
    "    new_dictionary['title'] = dictionary['title'].upper()\n",
    "    new_dictionary['time'] = dictionary['time']\n",
    "    new_dictionary['unprocessed_date'] = dictionary['date']\n",
    "    new_dictionary['date'] = convert_date(dictionary['date'])\n",
    "    keys = list(dictionary.keys())\n",
    "    checkboxes = ['transportation','comments', 'groupme']\n",
    "    for i in checkboxes:\n",
    "        if i in keys:\n",
    "            new_dictionary[i] = True\n",
    "        else:\n",
    "            new_dictionary[i] = False\n",
    "\n",
    "    new_dictionary['attending'] = {}\n",
    "\n",
    "    return new_dictionary"
   ]
  },
  {
   "cell_type": "code",
   "execution_count": null,
   "metadata": {
    "collapsed": true
   },
   "outputs": [],
   "source": []
  }
 ],
 "metadata": {
  "kernelspec": {
   "display_name": "Python 3",
   "language": "python",
   "name": "python3"
  },
  "language_info": {
   "codemirror_mode": {
    "name": "ipython",
    "version": 3
   },
   "file_extension": ".py",
   "mimetype": "text/x-python",
   "name": "python",
   "nbconvert_exporter": "python",
   "pygments_lexer": "ipython3",
   "version": "3.6.3"
  }
 },
 "nbformat": 4,
 "nbformat_minor": 2
}

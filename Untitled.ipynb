{
 "cells": [
  {
   "cell_type": "code",
   "execution_count": 4,
   "metadata": {},
   "outputs": [
    {
     "data": {
      "text/plain": [
       "'December 10, 2018'"
      ]
     },
     "execution_count": 4,
     "metadata": {},
     "output_type": "execute_result"
    }
   ],
   "source": [
    "#'2017-06-10' to 'June 10, 2017'\n",
    "\n",
    "def convert_date(string):\n",
    "    months_list = ['January', 'February', 'March', 'April', 'May', 'June', 'July', 'August', 'October','September',\n",
    "                   'November', 'December']\n",
    "    list_form = string.split('-')\n",
    "    month_index = int(list_form[1])-1\n",
    "    month = months_list[month_index]\n",
    "    converted_date = month+\" \"+list_form[2]+\", \"+ list_form[0]\n",
    "    return converted_date\n",
    "\n",
    "convert_date('2018-12-10')\n",
    "     "
   ]
  },
  {
   "cell_type": "code",
   "execution_count": 5,
   "metadata": {},
   "outputs": [
    {
     "data": {
      "text/plain": [
       "'HJK'"
      ]
     },
     "execution_count": 5,
     "metadata": {},
     "output_type": "execute_result"
    }
   ],
   "source": [
    "'hjk'.upper()"
   ]
  },
  {
   "cell_type": "code",
   "execution_count": 7,
   "metadata": {},
   "outputs": [
    {
     "name": "stdout",
     "output_type": "stream",
     "text": [
      "['2017-03-07', '2018-12-01', '2018-12-11']\n"
     ]
    }
   ],
   "source": [
    "listo = ['2018-12-11', '2018-12-01', '2017-03-07']\n",
    "print(sorted(listo))"
   ]
  },
  {
   "cell_type": "code",
   "execution_count": 8,
   "metadata": {
    "collapsed": true
   },
   "outputs": [],
   "source": [
    "from pickle import dump, load\n",
    "\n",
    "def load_cache(file):\n",
    "    cache = load( open( file, \"rb\" ) )\n",
    "    return cache\n",
    "\n",
    "def pickle_cache(variable, file_name):\n",
    "    dump(variable, open(file_name, 'wb'))"
   ]
  },
  {
   "cell_type": "code",
   "execution_count": 10,
   "metadata": {},
   "outputs": [],
   "source": []
  },
  {
   "cell_type": "code",
   "execution_count": null,
   "metadata": {
    "collapsed": true
   },
   "outputs": [],
   "source": []
  }
 ],
 "metadata": {
  "kernelspec": {
   "display_name": "Python 3",
   "language": "python",
   "name": "python3"
  },
  "language_info": {
   "codemirror_mode": {
    "name": "ipython",
    "version": 3
   },
   "file_extension": ".py",
   "mimetype": "text/x-python",
   "name": "python",
   "nbconvert_exporter": "python",
   "pygments_lexer": "ipython3",
   "version": "3.6.3"
  }
 },
 "nbformat": 4,
 "nbformat_minor": 2
}
